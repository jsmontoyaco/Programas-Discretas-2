{
 "cells": [
  {
   "cell_type": "markdown",
   "metadata": {},
   "source": [
    "# Algoritmo RSA"
   ]
  },
  {
   "cell_type": "markdown",
   "metadata": {},
   "source": [
    "La seguridad del algoritmo del RSA se fía bajo el principio de la complejidad de factorizar un número grande en factores primos.  \n",
    "El problema que trata el RSA es en la factorización de números enteros, en particular el producto de dos números primos grandes, mayores al orden de $10^{30}$. Su aplicación en computación consta de encriptar un mensaje el cual el emisor busca la llave pública del receptor, la cifra y el receptor la descifra usano su clave privada. La necesidad de introducir un algortimo de este tipo radica en que se usa un problema matemático el cual aplicado con números grandes, la capacidad de computo se vé limitada de resolver garantizando que exista una seguridad de que el mensaje enviado sea muy dificil de desencriptar sin una llave privada. Se genera un mensaje así:  \n",
    "$c=m^e mod(n)$ donde $e$ es la clave pública y $c$ es el mensaje privado, y ahora el receptor descifra el mensaje mediante la operación inversa dada por $m=c^d mod(n)$  \n",
    "El aspecto a tratar en este programa es en la generación de llaves.  \n",
    "En este programa realizaremos una demostración pequeña de este algoritmo."
   ]
  },
  {
   "cell_type": "markdown",
   "metadata": {},
   "source": [
    "# Desarrollo del Algoritmo"
   ]
  },
  {
   "cell_type": "markdown",
   "metadata": {},
   "source": [
    "1. Se escogen dos números primos distintos $p$ y $q$ \n",
    "2. Obtener el valor de $n$ a partir de la fórmula $n=pq$\n",
    "3. Se halla la función de Euler $\\varphi(n)=(p-1)(q-1)$  \n",
    "**Demostración:**  \n",
    "3.1 Por definición la función $\\varphi$ de Euler de un número $n$ muestra la cantidad de coprimos menores de $n$.  \n",
    "Al ser p,q números primos, tendremos que la cantidad de coprimos menores que $p,q$ serán $(p-1)$ y $(q-1)$ respectivamente.  \n",
    "3.2 Se sabe que: $\\varphi(n)=n\\Pi_{k_i|n}\\left( 1- \\frac{1}{k_{i}}\\right)$, aplicando la multiplicación  \n",
    "$\\varphi(n)\\varphi(m)=mn\\Pi_{k_{i}n}\\left( 1- \\frac{1}{k_{i}}\\right)\\Pi_{l_{i}n}\\left( 1-\\frac{1}{q_{i}}\\right)$  \n",
    "Cómo el $mcd(m,n)=1$, entonces se garantiza que no hallan primos $k_i$ y $l_i$ iguales lo cual hace que la formula no se vea alterada cuando se hace $\\varphi(mn)=mn\\Pi_{k_{i}n}\\left( 1- \\frac{1}{k_{i}}\\right)\\Pi_{l_{i}n}\\left( 1-\\frac{1}{q_{i}}\\right)$  \n",
    "Por lo tanto se cumple la propiedad $\\varphi(mn)=\\varphi(m)\\varphi(n)$ siempre y cuando $m$ y $n$ sean coprimos\n",
    "4. Se calcula el exponente $e$ que servirá para la clave pública, se define como un entero menor que $\\varphi(n)$ y sean coprimos, en caso de existir varios posibles valores de $e$ se aconseja escoger el mayor para garantizar mayor seguridad\n",
    "5. Calcular el valor del exponente $d$ para la clave privada, lo cual satisface $ed\\equiv 1mod(\\varphi(n))$, esta congruencia es usada para calcular el inverso de un modulo, el cual $d$ representa dicha inversa, por medio del algoritmo de euclides extendido y la ecuación diofántica se puede hallar el valor de $d$\n"
   ]
  },
  {
   "cell_type": "markdown",
   "metadata": {},
   "source": [
    "# Implementación del Algoritmo RSA"
   ]
  },
  {
   "cell_type": "code",
   "execution_count": 1,
   "metadata": {},
   "outputs": [],
   "source": [
    "import math as mt \n",
    "import numpy as np\n",
    "import random as ran"
   ]
  },
  {
   "cell_type": "markdown",
   "metadata": {},
   "source": [
    "Se realizan las funciones necesarias para poder hacer el agoritmo"
   ]
  },
  {
   "cell_type": "code",
   "execution_count": 2,
   "metadata": {},
   "outputs": [],
   "source": [
    "def nnum (p,q):\n",
    "    return (p*q)"
   ]
  },
  {
   "cell_type": "markdown",
   "metadata": {},
   "source": [
    "La función $\\varphi$ de Euler resulta fácil de calcular usando los teoremas anteriormente demostrados"
   ]
  },
  {
   "cell_type": "code",
   "execution_count": 3,
   "metadata": {},
   "outputs": [],
   "source": [
    "def phieuler(p,q):\n",
    "    phi=(p-1)*(q-1)\n",
    "    return (phi)"
   ]
  },
  {
   "cell_type": "markdown",
   "metadata": {},
   "source": [
    "Se calcula el valor de $e$, en este caso se generará un número aleatorio entre $\\varphi(n)(0.1)$ y $\\varphi(n)-1$, se pone este límite inferior para garantizar que el exponente no sea pequeño, también esto requiere que los valores de $p,q,\\varphi(n)$ sean superiores a 100"
   ]
  },
  {
   "cell_type": "code",
   "execution_count": 4,
   "metadata": {},
   "outputs": [],
   "source": [
    "def MCDeu(val1, val2, i):\n",
    "    if(val1<val2):\n",
    "        val1,val2=val2,val1\n",
    "    mod=val1%val2\n",
    "    if(mod==0):\n",
    "        return(val2)\n",
    "    return(MCDeu(val2,mod,i+1))"
   ]
  },
  {
   "cell_type": "code",
   "execution_count": 5,
   "metadata": {},
   "outputs": [],
   "source": [
    "def exponentee(phin):\n",
    "    limiteinferior=round(phin*0.1)\n",
    "    limitesuperior=phin-1\n",
    "    validacion=False\n",
    "    while(validacion==False):\n",
    "        e=ran.randint(10,round(phin/2))\n",
    "        if(MCDeu(phin,e,1)==1):\n",
    "            return(e)"
   ]
  },
  {
   "cell_type": "markdown",
   "metadata": {},
   "source": [
    "Ahora se calcula el valor de $d$ por medio de la congruencia $ed\\equiv 1mod(\\varphi(n))$, primero se debe comprobar la existencia de la inversa la cual se cumple si $emod(\\varphi(n))\\neq 0$ es decir, son coprimos. Después se procede a aplicar el algoritmo de Euclides el cual cumple que $ed+\\varphi(n)=1$"
   ]
  },
  {
   "cell_type": "code",
   "execution_count": 6,
   "metadata": {},
   "outputs": [],
   "source": [
    "def exponented(e, phin):\n",
    "    var=0\n",
    "    if(e%phin ==0):\n",
    "        return(\"error, no existe inversa\")\n",
    "    else:\n",
    "        for i in range(0,phin,1):\n",
    "            var=((e*i)-1)%phin\n",
    "            if(var==0):\n",
    "                return i"
   ]
  },
  {
   "cell_type": "markdown",
   "metadata": {},
   "source": [
    "# Transformación de mensaje a código ASCII y viceversa"
   ]
  },
  {
   "cell_type": "markdown",
   "metadata": {},
   "source": [
    "Ahora para poder encriptar el mensaje debemos pasarlo de un caracter alfabético a alfanumerico, en este caso transformaremos el mensaje al código ASCII"
   ]
  },
  {
   "cell_type": "code",
   "execution_count": 7,
   "metadata": {},
   "outputs": [],
   "source": [
    "def textoascii(texto):\n",
    "    asciicod=''.join(str(ord(i)) for i in texto)\n",
    "    return (asciicod)"
   ]
  },
  {
   "cell_type": "markdown",
   "metadata": {},
   "source": [
    "# Cifrado y Descifrado del RSA"
   ]
  },
  {
   "cell_type": "markdown",
   "metadata": {},
   "source": [
    "#### Cifrado"
   ]
  },
  {
   "cell_type": "markdown",
   "metadata": {},
   "source": [
    "Convertido el mensaje a un códiugo ascii, se debe garantizar que el código ascii debe ser menor que $n$ y también deben ser coprimos.  \n",
    "El cifrado se logra mediante la fórmula $c\\equiv m^{e}mod(n)$ siendo $e$ la clave pública"
   ]
  },
  {
   "cell_type": "code",
   "execution_count": 8,
   "metadata": {},
   "outputs": [],
   "source": [
    "def cifradoRSA(asciicod,e,n):\n",
    "    c=(asciicod**e)%n\n",
    "    return (c)"
   ]
  },
  {
   "cell_type": "markdown",
   "metadata": {},
   "source": [
    "#### Descifrado"
   ]
  },
  {
   "cell_type": "markdown",
   "metadata": {},
   "source": [
    "Para recuperar el mensaje original en código ascii, se aplica la fórmula $m\\equiv c^{d}mod(n)$ donde $d$ es la clave privada "
   ]
  },
  {
   "cell_type": "code",
   "execution_count": 9,
   "metadata": {},
   "outputs": [],
   "source": [
    "def descifradoRSA(c,d,n):\n",
    "    asciicod=c**d%n\n",
    "    return (asciicod)"
   ]
  },
  {
   "cell_type": "markdown",
   "metadata": {},
   "source": [
    "# Ejemplo:"
   ]
  },
  {
   "cell_type": "markdown",
   "metadata": {},
   "source": [
    "Debido a la grna complejidad de números que se tiene al transformar el valor en ascii y operar, haremos el cifrado con un texto pequeño. De igual modo, sirve decodificando números enteros."
   ]
  },
  {
   "cell_type": "code",
   "execution_count": 55,
   "metadata": {
    "scrolled": true
   },
   "outputs": [
    {
     "name": "stdout",
     "output_type": "stream",
     "text": [
      "97109\n"
     ]
    }
   ],
   "source": [
    "text=\"am\"\n",
    "asciicode=int(textoascii(text)) ##se traduce el mensaje en código ascii y se guarda como un número entero\n",
    "print(asciicode)"
   ]
  },
  {
   "cell_type": "code",
   "execution_count": 56,
   "metadata": {},
   "outputs": [
    {
     "name": "stdout",
     "output_type": "stream",
     "text": [
      "107757\n",
      "1\n"
     ]
    }
   ],
   "source": [
    "p=351\n",
    "q=307\n",
    "n=nnum(p,q) ## se escogen p, q primos y se calcula el número n que debe ser mayor que asciicode\n",
    "print(n)\n",
    "print(MCDeu(n,asciicode,1)) ## esta función de realiza para comprobar que n y asciicode son coprimos, de lo contrario no se podría recuperar el mensaje original"
   ]
  },
  {
   "cell_type": "code",
   "execution_count": 57,
   "metadata": {},
   "outputs": [
    {
     "name": "stdout",
     "output_type": "stream",
     "text": [
      "Función phi Euler n:  107100\n",
      "Clave pública:  52607\n",
      "Clave privada:  25043\n"
     ]
    }
   ],
   "source": [
    "phin=phieuler(p,q)\n",
    "e=exponentee(phin)\n",
    "d=exponented(e, phin)\n",
    "print(\"Función phi Euler n: \",phin)\n",
    "print(\"Clave pública: \",e)\n",
    "print(\"Clave privada: \", d)\n"
   ]
  },
  {
   "cell_type": "code",
   "execution_count": 58,
   "metadata": {},
   "outputs": [
    {
     "name": "stdout",
     "output_type": "stream",
     "text": [
      "Valor control para verificar si la clave privada fue generada correctamente, si el valor es 1, quiere decir que es correcto:  1\n"
     ]
    }
   ],
   "source": [
    "print(\"Valor control para verificar si la clave privada fue generada correctamente, si el valor es 1, quiere decir que es correcto: \",(e*d)%phin)"
   ]
  },
  {
   "cell_type": "code",
   "execution_count": 59,
   "metadata": {},
   "outputs": [
    {
     "name": "stdout",
     "output_type": "stream",
     "text": [
      "El mensaje codificado en RSA es: 81197\n"
     ]
    }
   ],
   "source": [
    "codersa=cifradoRSA(asciicode,e,n)\n",
    "print(\"El mensaje codificado en RSA es:\",codersa)"
   ]
  },
  {
   "cell_type": "code",
   "execution_count": 60,
   "metadata": {},
   "outputs": [
    {
     "name": "stdout",
     "output_type": "stream",
     "text": [
      "97109\n"
     ]
    }
   ],
   "source": [
    "decodersa=descifradoRSA(codersa,d,n)\n",
    "print(decodersa)"
   ]
  },
  {
   "cell_type": "markdown",
   "metadata": {},
   "source": [
    "# Ejemplo 2"
   ]
  },
  {
   "cell_type": "markdown",
   "metadata": {},
   "source": [
    "Pondremos una función RSA para un número entero m que sea menor y coprimo de n"
   ]
  },
  {
   "cell_type": "code",
   "execution_count": 67,
   "metadata": {},
   "outputs": [],
   "source": [
    "m=31450"
   ]
  },
  {
   "cell_type": "code",
   "execution_count": 68,
   "metadata": {},
   "outputs": [
    {
     "name": "stdout",
     "output_type": "stream",
     "text": [
      "Valor n 92843\n",
      "Función phi Euler n: 92208\n",
      "Clave pública: 34973\n",
      "Clave Privada: 2597\n"
     ]
    }
   ],
   "source": [
    "p=409\n",
    "q=227\n",
    "n= nnum(p,q)\n",
    "phin=phieuler(p,q)\n",
    "e=exponentee(phin)\n",
    "d=exponented(e, phin)\n",
    "print(\"Valor n\", n)\n",
    "print(\"Función phi Euler n:\",phin)\n",
    "print(\"Clave pública:\",e)\n",
    "print(\"Clave Privada:\",d)"
   ]
  },
  {
   "cell_type": "code",
   "execution_count": 69,
   "metadata": {},
   "outputs": [
    {
     "name": "stdout",
     "output_type": "stream",
     "text": [
      "1\n"
     ]
    }
   ],
   "source": [
    "print(MCDeu(n,m,1))"
   ]
  },
  {
   "cell_type": "code",
   "execution_count": 70,
   "metadata": {},
   "outputs": [
    {
     "name": "stdout",
     "output_type": "stream",
     "text": [
      "Valor control para verificar si la clave privada fue generada correctamente, si el valor es 1, quiere decir que es correcto:  1\n"
     ]
    }
   ],
   "source": [
    "print(\"Valor control para verificar si la clave privada fue generada correctamente, si el valor es 1, quiere decir que es correcto: \",(e*d)%phin)"
   ]
  },
  {
   "cell_type": "code",
   "execution_count": 71,
   "metadata": {},
   "outputs": [
    {
     "name": "stdout",
     "output_type": "stream",
     "text": [
      "El mensaje codificado en RSA es: 86187\n"
     ]
    }
   ],
   "source": [
    "codersa=cifradoRSA(m,e,n)\n",
    "print(\"El mensaje codificado en RSA es:\",codersa)"
   ]
  },
  {
   "cell_type": "code",
   "execution_count": 73,
   "metadata": {},
   "outputs": [
    {
     "name": "stdout",
     "output_type": "stream",
     "text": [
      "El mensaje decodificado en RSA es: 31450\n"
     ]
    }
   ],
   "source": [
    "decodersa=descifradoRSA(codersa,d,n)\n",
    "print(\"El mensaje decodificado en RSA es:\",decodersa)"
   ]
  }
 ],
 "metadata": {
  "kernelspec": {
   "display_name": "Python 3",
   "language": "python",
   "name": "python3"
  },
  "language_info": {
   "codemirror_mode": {
    "name": "ipython",
    "version": 3
   },
   "file_extension": ".py",
   "mimetype": "text/x-python",
   "name": "python",
   "nbconvert_exporter": "python",
   "pygments_lexer": "ipython3",
   "version": "3.7.4"
  }
 },
 "nbformat": 4,
 "nbformat_minor": 2
}
