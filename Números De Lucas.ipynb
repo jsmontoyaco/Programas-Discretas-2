{
 "cells": [
  {
   "cell_type": "markdown",
   "metadata": {},
   "source": [
    "# Taller 3: Ecuaciones en Diferencias"
   ]
  },
  {
   "cell_type": "markdown",
   "metadata": {},
   "source": [
    "# Números de Lucas"
   ]
  },
  {
   "cell_type": "markdown",
   "metadata": {},
   "source": [
    "Los números de Lucas están relacionados con los números de Fibonacci, y están definidos por lasiguiente secuencia: $L_{n+2}=L_{n+1}+L_{n}, \\quad L_{0}=2,L_{1}=1$."
   ]
  },
  {
   "cell_type": "code",
   "execution_count": 24,
   "metadata": {},
   "outputs": [],
   "source": [
    "import numpy as np"
   ]
  },
  {
   "cell_type": "markdown",
   "metadata": {},
   "source": [
    "Definiendo la función de Lucas en Python:"
   ]
  },
  {
   "cell_type": "code",
   "execution_count": 25,
   "metadata": {},
   "outputs": [],
   "source": [
    "def lucas (indice):\n",
    "    val=[]\n",
    "    for i in range(0,indice+1,1):\n",
    "        if(i==0):\n",
    "            val.append(2)\n",
    "        elif(i==1):\n",
    "            val.append(1)\n",
    "        else:\n",
    "            val.append(val[i-1]+val[i-2])\n",
    "    return val[indice]"
   ]
  },
  {
   "cell_type": "code",
   "execution_count": 26,
   "metadata": {},
   "outputs": [],
   "source": [
    "def lucasindice(intervalo, maso):\n",
    "    val=[]\n",
    "    total=0\n",
    "    j=-1\n",
    "    while total<intervalo:\n",
    "        j+=1\n",
    "        if(j==0):\n",
    "            val.append(2)\n",
    "        elif(j==1):\n",
    "            val.append(1)\n",
    "        else:\n",
    "            val.append(val[j-1]+val[j-2])\n",
    "        total=val[j]\n",
    "    if(maso=='mayor'):\n",
    "        return(j)\n",
    "    elif(maso==\"menor\"):\n",
    "        return(j-1)\n",
    "    else:\n",
    "        return'Parámetro incorrecto'"
   ]
  },
  {
   "cell_type": "markdown",
   "metadata": {},
   "source": [
    "1. Imprima el $18^{th}$ número de Lucas"
   ]
  },
  {
   "cell_type": "code",
   "execution_count": 27,
   "metadata": {},
   "outputs": [
    {
     "name": "stdout",
     "output_type": "stream",
     "text": [
      "5778\n"
     ]
    }
   ],
   "source": [
    "print(lucas(18))"
   ]
  },
  {
   "cell_type": "markdown",
   "metadata": {},
   "source": [
    "2. El número de Lucas cercano a 1000"
   ]
  },
  {
   "cell_type": "code",
   "execution_count": 28,
   "metadata": {},
   "outputs": [
    {
     "name": "stdout",
     "output_type": "stream",
     "text": [
      "14\n"
     ]
    }
   ],
   "source": [
    "print(lucasindice(1000,'menor'))"
   ]
  },
  {
   "cell_type": "markdown",
   "metadata": {},
   "source": [
    "3. El número de Lucas más grande que 100"
   ]
  },
  {
   "cell_type": "code",
   "execution_count": 29,
   "metadata": {},
   "outputs": [
    {
     "name": "stdout",
     "output_type": "stream",
     "text": [
      "10\n"
     ]
    }
   ],
   "source": [
    "print(lucasindice(100,'mayor'))"
   ]
  }
 ],
 "metadata": {
  "kernelspec": {
   "display_name": "Python 3",
   "language": "python",
   "name": "python3"
  },
  "language_info": {
   "codemirror_mode": {
    "name": "ipython",
    "version": 3
   },
   "file_extension": ".py",
   "mimetype": "text/x-python",
   "name": "python",
   "nbconvert_exporter": "python",
   "pygments_lexer": "ipython3",
   "version": "3.7.4"
  }
 },
 "nbformat": 4,
 "nbformat_minor": 2
}
